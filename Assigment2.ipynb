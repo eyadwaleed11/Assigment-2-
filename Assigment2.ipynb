{
 "cells": [
  {
   "cell_type": "code",
   "execution_count": 1,
   "id": "013e3a6a-f041-49ef-89ac-6751c1cffc2b",
   "metadata": {},
   "outputs": [
    {
     "data": {
      "text/html": [
       "<div>\n",
       "<style scoped>\n",
       "    .dataframe tbody tr th:only-of-type {\n",
       "        vertical-align: middle;\n",
       "    }\n",
       "\n",
       "    .dataframe tbody tr th {\n",
       "        vertical-align: top;\n",
       "    }\n",
       "\n",
       "    .dataframe thead th {\n",
       "        text-align: right;\n",
       "    }\n",
       "</style>\n",
       "<table border=\"1\" class=\"dataframe\">\n",
       "  <thead>\n",
       "    <tr style=\"text-align: right;\">\n",
       "      <th></th>\n",
       "      <th>age</th>\n",
       "      <th>sex</th>\n",
       "      <th>bmi</th>\n",
       "      <th>children</th>\n",
       "      <th>smoker</th>\n",
       "      <th>region</th>\n",
       "      <th>charges</th>\n",
       "    </tr>\n",
       "  </thead>\n",
       "  <tbody>\n",
       "    <tr>\n",
       "      <th>0</th>\n",
       "      <td>19</td>\n",
       "      <td>female</td>\n",
       "      <td>27.900</td>\n",
       "      <td>0</td>\n",
       "      <td>yes</td>\n",
       "      <td>southwest</td>\n",
       "      <td>16884.92400</td>\n",
       "    </tr>\n",
       "    <tr>\n",
       "      <th>1</th>\n",
       "      <td>18</td>\n",
       "      <td>male</td>\n",
       "      <td>33.770</td>\n",
       "      <td>1</td>\n",
       "      <td>no</td>\n",
       "      <td>southeast</td>\n",
       "      <td>1725.55230</td>\n",
       "    </tr>\n",
       "    <tr>\n",
       "      <th>2</th>\n",
       "      <td>28</td>\n",
       "      <td>male</td>\n",
       "      <td>33.000</td>\n",
       "      <td>3</td>\n",
       "      <td>no</td>\n",
       "      <td>southeast</td>\n",
       "      <td>4449.46200</td>\n",
       "    </tr>\n",
       "    <tr>\n",
       "      <th>3</th>\n",
       "      <td>33</td>\n",
       "      <td>male</td>\n",
       "      <td>22.705</td>\n",
       "      <td>0</td>\n",
       "      <td>no</td>\n",
       "      <td>northwest</td>\n",
       "      <td>21984.47061</td>\n",
       "    </tr>\n",
       "    <tr>\n",
       "      <th>4</th>\n",
       "      <td>32</td>\n",
       "      <td>male</td>\n",
       "      <td>28.880</td>\n",
       "      <td>0</td>\n",
       "      <td>no</td>\n",
       "      <td>northwest</td>\n",
       "      <td>3866.85520</td>\n",
       "    </tr>\n",
       "    <tr>\n",
       "      <th>...</th>\n",
       "      <td>...</td>\n",
       "      <td>...</td>\n",
       "      <td>...</td>\n",
       "      <td>...</td>\n",
       "      <td>...</td>\n",
       "      <td>...</td>\n",
       "      <td>...</td>\n",
       "    </tr>\n",
       "    <tr>\n",
       "      <th>1333</th>\n",
       "      <td>50</td>\n",
       "      <td>male</td>\n",
       "      <td>30.970</td>\n",
       "      <td>3</td>\n",
       "      <td>no</td>\n",
       "      <td>northwest</td>\n",
       "      <td>10600.54830</td>\n",
       "    </tr>\n",
       "    <tr>\n",
       "      <th>1334</th>\n",
       "      <td>18</td>\n",
       "      <td>female</td>\n",
       "      <td>31.920</td>\n",
       "      <td>0</td>\n",
       "      <td>no</td>\n",
       "      <td>northeast</td>\n",
       "      <td>2205.98080</td>\n",
       "    </tr>\n",
       "    <tr>\n",
       "      <th>1335</th>\n",
       "      <td>18</td>\n",
       "      <td>female</td>\n",
       "      <td>36.850</td>\n",
       "      <td>0</td>\n",
       "      <td>no</td>\n",
       "      <td>southeast</td>\n",
       "      <td>1629.83350</td>\n",
       "    </tr>\n",
       "    <tr>\n",
       "      <th>1336</th>\n",
       "      <td>21</td>\n",
       "      <td>female</td>\n",
       "      <td>25.800</td>\n",
       "      <td>0</td>\n",
       "      <td>no</td>\n",
       "      <td>southwest</td>\n",
       "      <td>2007.94500</td>\n",
       "    </tr>\n",
       "    <tr>\n",
       "      <th>1337</th>\n",
       "      <td>61</td>\n",
       "      <td>female</td>\n",
       "      <td>29.070</td>\n",
       "      <td>0</td>\n",
       "      <td>yes</td>\n",
       "      <td>northwest</td>\n",
       "      <td>29141.36030</td>\n",
       "    </tr>\n",
       "  </tbody>\n",
       "</table>\n",
       "<p>1338 rows × 7 columns</p>\n",
       "</div>"
      ],
      "text/plain": [
       "      age     sex     bmi  children smoker     region      charges\n",
       "0      19  female  27.900         0    yes  southwest  16884.92400\n",
       "1      18    male  33.770         1     no  southeast   1725.55230\n",
       "2      28    male  33.000         3     no  southeast   4449.46200\n",
       "3      33    male  22.705         0     no  northwest  21984.47061\n",
       "4      32    male  28.880         0     no  northwest   3866.85520\n",
       "...   ...     ...     ...       ...    ...        ...          ...\n",
       "1333   50    male  30.970         3     no  northwest  10600.54830\n",
       "1334   18  female  31.920         0     no  northeast   2205.98080\n",
       "1335   18  female  36.850         0     no  southeast   1629.83350\n",
       "1336   21  female  25.800         0     no  southwest   2007.94500\n",
       "1337   61  female  29.070         0    yes  northwest  29141.36030\n",
       "\n",
       "[1338 rows x 7 columns]"
      ]
     },
     "execution_count": 1,
     "metadata": {},
     "output_type": "execute_result"
    }
   ],
   "source": [
    "import pandas as pd \n",
    "sal = pd.read_csv('D:/We/insurance-data.csv')\n",
    "sal"
   ]
  },
  {
   "cell_type": "raw",
   "id": "72a3df6f-451c-4645-9a62-facfa8eaa240",
   "metadata": {},
   "source": [
    "the precentage of female smoker "
   ]
  },
  {
   "cell_type": "code",
   "execution_count": 2,
   "id": "4cce777a-7c9b-4d3a-82de-f33e30afd119",
   "metadata": {},
   "outputs": [
    {
     "data": {
      "text/plain": [
       "17.371601208459214"
      ]
     },
     "execution_count": 2,
     "metadata": {},
     "output_type": "execute_result"
    }
   ],
   "source": [
    "(sal[(sal['smoker'] == 'yes') & (sal['sex'] == 'female')]['sex'].count()/662)*100"
   ]
  },
  {
   "cell_type": "raw",
   "id": "ca14c2ff-3860-4b95-b4fe-67ac7be82654",
   "metadata": {},
   "source": [
    "which city has max insurance rate "
   ]
  },
  {
   "cell_type": "code",
   "execution_count": 3,
   "id": "8b77421f-b3ff-4b4e-93b4-dd0b8544cdcd",
   "metadata": {},
   "outputs": [
    {
     "data": {
      "text/plain": [
       "543    southeast\n",
       "Name: region, dtype: object"
      ]
     },
     "execution_count": 3,
     "metadata": {},
     "output_type": "execute_result"
    }
   ],
   "source": [
    "sal[sal['charges']==sal['charges'].max()]['region']"
   ]
  },
  {
   "cell_type": "raw",
   "id": "635a642f-2eb7-4e75-ad1b-a273d35c23ff",
   "metadata": {},
   "source": [
    "which gender has the max insurance rage "
   ]
  },
  {
   "cell_type": "code",
   "execution_count": 4,
   "id": "15bc748f-bc3f-499f-8954-390c1a38f852",
   "metadata": {},
   "outputs": [
    {
     "data": {
      "text/plain": [
       "543    female\n",
       "Name: sex, dtype: object"
      ]
     },
     "execution_count": 4,
     "metadata": {},
     "output_type": "execute_result"
    }
   ],
   "source": [
    "sal[sal['charges']==sal['charges'].max()]['sex']"
   ]
  },
  {
   "cell_type": "raw",
   "id": "4c936442-f3d2-43fd-809e-8dab52b75399",
   "metadata": {},
   "source": [
    "average percentage of female smoker age "
   ]
  },
  {
   "cell_type": "code",
   "execution_count": 6,
   "id": "e4160a47-a58c-4d35-b501-f963d777a46e",
   "metadata": {},
   "outputs": [
    {
     "name": "stdout",
     "output_type": "stream",
     "text": [
      "10.994997771284236\n"
     ]
    }
   ],
   "source": [
    "resultSmokers=0\n",
    "resultAll=0\n",
    "for x in sal[(sal['smoker'] == 'yes') & (sal['sex'] == 'female')]['age'] : \n",
    "    resultSmokers=x+resultSmokers\n",
    "for y in sal[(sal['sex'] == 'female')]['age'] : \n",
    "    resultAll=x+resultAll\n",
    "print((resultSmokers/resultAll)*100)"
   ]
  },
  {
   "cell_type": "raw",
   "id": "5f98e203-b9dc-4a43-8be8-50395f5f9b22",
   "metadata": {},
   "source": [
    "percentage of males who has children inssurance "
   ]
  },
  {
   "cell_type": "code",
   "execution_count": 11,
   "id": "9a1405da-9920-40c1-ac7d-8d5dc923b979",
   "metadata": {},
   "outputs": [
    {
     "data": {
      "text/plain": [
       "57.84023668639053"
      ]
     },
     "execution_count": 11,
     "metadata": {},
     "output_type": "execute_result"
    }
   ],
   "source": [
    "(sal[(sal['children']!=0 )&(sal['sex']=='male') ]['sex'].count()/sal[sal['sex']=='male']['sex'].count())*100"
   ]
  },
  {
   "cell_type": "raw",
   "id": "4f77da5f-77c3-416a-8a49-39742361e18e",
   "metadata": {},
   "source": [
    "the max number of children for male gender "
   ]
  },
  {
   "cell_type": "code",
   "execution_count": 16,
   "id": "8f7bb5ca-9b2b-411f-90dd-51e80261a6ec",
   "metadata": {},
   "outputs": [
    {
     "data": {
      "text/plain": [
       "5"
      ]
     },
     "execution_count": 16,
     "metadata": {},
     "output_type": "execute_result"
    }
   ],
   "source": [
    "sal[(sal['sex']=='male') ]['children'].max()"
   ]
  },
  {
   "cell_type": "code",
   "execution_count": null,
   "id": "9603ccce-23cd-4b21-a86e-260e77557ea4",
   "metadata": {},
   "outputs": [],
   "source": []
  }
 ],
 "metadata": {
  "kernelspec": {
   "display_name": "Python 3 (ipykernel)",
   "language": "python",
   "name": "python3"
  },
  "language_info": {
   "codemirror_mode": {
    "name": "ipython",
    "version": 3
   },
   "file_extension": ".py",
   "mimetype": "text/x-python",
   "name": "python",
   "nbconvert_exporter": "python",
   "pygments_lexer": "ipython3",
   "version": "3.12.4"
  }
 },
 "nbformat": 4,
 "nbformat_minor": 5
}
